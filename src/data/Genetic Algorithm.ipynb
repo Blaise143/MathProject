{
 "cells": [
  {
   "cell_type": "markdown",
   "source": [
    "### Genetic Algorithms\n",
    "***"
   ],
   "metadata": {
    "collapsed": false,
    "pycharm": {
     "name": "#%% md\n"
    }
   }
  },
  {
   "cell_type": "markdown",
   "source": [
    "In the second approach to our problem, we used a genetic algorithm to solve the scheduling problem. Before we dive into our approach, we will first explain in detail how genetic algorithms work.\n",
    "\n",
    "#### Genetic algorithm Overview.\n",
    "Genetic algorithms are a special kind of `evolutionary algorithms\n",
    "Suppose we are given a function $f(x)$ and we want to maximize it with respect to some constraints.\n",
    "Genetic Algorithms are ins"
   ],
   "metadata": {
    "collapsed": false,
    "pycharm": {
     "name": "#%% md\n"
    }
   }
  }
 ],
 "metadata": {
  "kernelspec": {
   "display_name": "Python 3",
   "language": "python",
   "name": "python3"
  },
  "language_info": {
   "codemirror_mode": {
    "name": "ipython",
    "version": 2
   },
   "file_extension": ".py",
   "mimetype": "text/x-python",
   "name": "python",
   "nbconvert_exporter": "python",
   "pygments_lexer": "ipython2",
   "version": "2.7.6"
  }
 },
 "nbformat": 4,
 "nbformat_minor": 0
}